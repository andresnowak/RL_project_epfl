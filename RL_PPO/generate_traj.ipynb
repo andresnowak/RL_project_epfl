{
 "cells": [
  {
   "cell_type": "code",
   "execution_count": 1,
   "id": "67ec686a",
   "metadata": {},
   "outputs": [],
   "source": [
    "from PPO_mountaincar import *\n",
    "import gym\n",
    "import pickle\n"
   ]
  },
  {
   "cell_type": "code",
   "execution_count": 2,
   "id": "571d26e3",
   "metadata": {},
   "outputs": [
    {
     "name": "stdout",
     "output_type": "stream",
     "text": [
      "... loading models ...\n",
      "... loading models ...\n"
     ]
    }
   ],
   "source": [
    "env = gym.make(\"MountainCar-v0\")\n",
    "agent1 = PPO(n_actions=env.action_space.n, input_dims=env.observation_space.shape)\n",
    "agent1.load_models(\"model/best_actor_model_MC\")\n",
    "agent2 = PPO(n_actions=env.action_space.n, input_dims=env.observation_space.shape)\n",
    "agent2.load_models(\"model/half_actor_model_MC\")\n"
   ]
  },
  {
   "cell_type": "code",
   "execution_count": 17,
   "id": "d3717db0",
   "metadata": {},
   "outputs": [
    {
     "name": "stdout",
     "output_type": "stream",
     "text": [
      "[[-144.0, -7180.0], [-143.0, -4389.0], [-171.0, -1347.0], [-177.0, -3874.0], [-148.0, -3585.0], [-178.0, -4323.0], [-152.0, -3812.0], [-143.0, -11983.0], [-223.0, -3222.0], [-263.0, -2469.0], [-137.0, -7119.0], [-211.0, -2996.0], [-187.0, -3670.0], [-163.0, -2554.0], [-146.0, -2324.0], [-277.0, -1652.0], [-142.0, -1057.0], [-246.0, -3824.0], [-139.0, -2860.0], [-178.0, -1520.0], [-225.0, -7056.0], [-210.0, -4567.0], [-212.0, -2668.0], [-200.0, -5113.0], [-140.0, -1852.0], [-205.0, -2511.0], [-210.0, -5698.0], [-184.0, -3102.0], [-206.0, -3785.0], [-256.0, -1586.0]]\n"
     ]
    }
   ],
   "source": [
    "K = 30\n",
    " \n",
    "trajectory_record = [] # [(t_1,t_2)_1,...,(t_1,t_2)_K]\n",
    "reward_record = []  # [(R_1,R_2)_1,...,(R_1,R_2)_K]\n",
    "trajectory1_record = []\n",
    "trajectory2_record = []\n",
    "\n",
    "def softmax(x,y):\n",
    "    return np.exp(x)/(np.exp(x)+np.exp(y))\n",
    "\n",
    "for k in range(K):\n",
    "    cum_reward1 = 0\n",
    "    cum_reward2 = 0\n",
    "    trajectory_buffer1 = []  \n",
    "    trajectory_buffer2 = [] \n",
    "    \n",
    "    # agent1\n",
    "    state, _ = env.reset()\n",
    "    done = False\n",
    "    \n",
    "    while not done:\n",
    "        action, probs, value = agent1.choose_action(state)\n",
    "        trajectory_buffer1.append([[state[0],state[1]], action]) \n",
    "        state_, reward, terminated, truncated, _ = env.step(action)\n",
    "        state = state_\n",
    "        cum_reward1 += reward\n",
    "        done = terminated\n",
    "\n",
    "    # agent2\n",
    "    state, _ = env.reset()\n",
    "    done = False\n",
    "\n",
    "    while not done:\n",
    "        action, probs, value = agent2.choose_action(state)\n",
    "        trajectory_buffer2.append([[state[0],state[1]], action]) \n",
    "        state_, reward, terminated, truncated, _ = env.step(action)\n",
    "        state = state_\n",
    "        cum_reward2 += reward\n",
    "        done = terminated\n",
    "\n",
    "    trajectory_record.append([trajectory_buffer1,trajectory_buffer2])\n",
    "    trajectory1_record.append(trajectory_buffer1)\n",
    "    trajectory2_record.append(trajectory_buffer2)\n",
    "    reward_record.append([cum_reward1, cum_reward2])\n",
    "\n",
    "print(reward_record)\n",
    "probs = [[softmax(x[0],x[1]),softmax(x[1],x[0])] for x in reward_record]\n",
    "label = []\n",
    "for prob in probs:\n",
    "    label.append(0 if prob[0]>prob[1] else 1)\n",
    "\n",
    "save_data = []\n",
    "for traj, label in zip(trajectory_record,label):\n",
    "    save_data.append((traj[0],traj[1], label))\n"
   ]
  },
  {
   "cell_type": "markdown",
   "id": "b20c9b33",
   "metadata": {},
   "source": [
    "## zahra's framework"
   ]
  },
  {
   "cell_type": "markdown",
   "id": "17cdaa41",
   "metadata": {},
   "source": [
    "### save traj"
   ]
  },
  {
   "cell_type": "code",
   "execution_count": 18,
   "id": "8b890470",
   "metadata": {},
   "outputs": [],
   "source": [
    "with open(\"traj_record/trajectory_record.pkl\", \"wb\") as f:\n",
    "    pickle.dump(save_data, f)"
   ]
  },
  {
   "cell_type": "markdown",
   "id": "91c139a4",
   "metadata": {},
   "source": [
    "### load traj"
   ]
  },
  {
   "cell_type": "code",
   "execution_count": null,
   "id": "f0838be6",
   "metadata": {},
   "outputs": [],
   "source": [
    "with open(\"traj_record/trajectory_record.pkl\", \"rb\") as f:\n",
    "    data = pickle.load(f)\n",
    "\n",
    "_data = data"
   ]
  },
  {
   "cell_type": "markdown",
   "id": "984ef0f0",
   "metadata": {},
   "source": [
    "## my suggestion"
   ]
  },
  {
   "cell_type": "markdown",
   "id": "95878597",
   "metadata": {},
   "source": [
    "### save traj"
   ]
  },
  {
   "cell_type": "code",
   "execution_count": 20,
   "id": "4c4c81b6",
   "metadata": {},
   "outputs": [],
   "source": [
    "with open(\"traj_record/trajectory_record_yugo.pkl\", \"wb\") as f:\n",
    "    pickle.dump({\"trajectory1\": trajectory1_record,\"trajectory2\": trajectory2_record, \"label\": label}, f)"
   ]
  },
  {
   "cell_type": "markdown",
   "id": "7719de22",
   "metadata": {},
   "source": [
    "### load traj"
   ]
  },
  {
   "cell_type": "code",
   "execution_count": 22,
   "id": "67708a8d",
   "metadata": {},
   "outputs": [],
   "source": [
    "with open(\"traj_record/trajectory_record_yugo.pkl\", \"rb\") as f:\n",
    "    data = pickle.load(f)\n",
    "\n",
    "# Access contents\n",
    "_trajectory1_record = data[\"trajectory1\"]\n",
    "_trajectory2_record = data[\"trajectory2\"]\n",
    "_label = data[\"label\"]"
   ]
  }
 ],
 "metadata": {
  "kernelspec": {
   "display_name": "epfl",
   "language": "python",
   "name": "python3"
  },
  "language_info": {
   "codemirror_mode": {
    "name": "ipython",
    "version": 3
   },
   "file_extension": ".py",
   "mimetype": "text/x-python",
   "name": "python",
   "nbconvert_exporter": "python",
   "pygments_lexer": "ipython3",
   "version": "3.11.11"
  }
 },
 "nbformat": 4,
 "nbformat_minor": 5
}
