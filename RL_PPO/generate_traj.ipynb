{
 "cells": [
  {
   "cell_type": "code",
   "execution_count": 8,
   "id": "67ec686a",
   "metadata": {},
   "outputs": [],
   "source": [
    "from PPO_mountaincar import *\n",
    "import gym\n",
    "import pickle\n"
   ]
  },
  {
   "cell_type": "code",
   "execution_count": 2,
   "id": "571d26e3",
   "metadata": {},
   "outputs": [
    {
     "name": "stdout",
     "output_type": "stream",
     "text": [
      "... loading models ...\n",
      "... loading models ...\n"
     ]
    }
   ],
   "source": [
    "env = gym.make(\"MountainCar-v0\")\n",
    "agent1 = PPO(n_actions=env.action_space.n, input_dims=env.observation_space.shape)\n",
    "agent1.load_models(\"model/best_actor_model_MC\")\n",
    "agent2 = PPO(n_actions=env.action_space.n, input_dims=env.observation_space.shape)\n",
    "agent2.load_models(\"model/half_actor_model_MC\")\n"
   ]
  },
  {
   "cell_type": "code",
   "execution_count": 3,
   "id": "d3717db0",
   "metadata": {},
   "outputs": [
    {
     "name": "stderr",
     "output_type": "stream",
     "text": [
      "/Users/pikkun0907/Library/CloudStorage/OneDrive-epfl.ch/2nd semester/RL/RL_project_epfl/RL_PPO/PPO_mountaincar.py:129: UserWarning: Creating a tensor from a list of numpy.ndarrays is extremely slow. Please consider converting the list to a single numpy.ndarray with numpy.array() before converting to a tensor. (Triggered internally at /Users/runner/work/pytorch/pytorch/pytorch/torch/csrc/utils/tensor_new.cpp:257.)\n",
      "  state = torch.tensor([observation], dtype=torch.float).to(self.actor.device)\n",
      "/opt/anaconda3/envs/epfl/lib/python3.11/site-packages/gym/utils/passive_env_checker.py:233: DeprecationWarning: `np.bool8` is a deprecated alias for `np.bool_`.  (Deprecated NumPy 1.24)\n",
      "  if not isinstance(terminated, (bool, np.bool8)):\n"
     ]
    }
   ],
   "source": [
    "K = 30\n",
    " \n",
    "trajectory_record = [] # [(t_1,t_2)_1,...,(t_1,t_2)_K]\n",
    "reward_record = []  # [(R_1,R_2)_1,...,(R_1,R_2)_K]\n",
    "\n",
    "def softmax(x,y):\n",
    "    return np.exp(x)/(np.exp(x)+np.exp(y))\n",
    "\n",
    "for k in range(K):\n",
    "    # agent1\n",
    "    state, _ = env.reset()\n",
    "    done = False\n",
    "    cum_reward1 = 0\n",
    "    cum_reward2 = 0\n",
    "    trajectory_buffer1 = []  \n",
    "    trajectory_buffer2 = [] \n",
    "    while not done:\n",
    "        action, probs, value = agent1.choose_action(state)\n",
    "        trajectory_buffer1.append([[state[0],state[1]], action]) \n",
    "        state_, reward, terminated, truncated, _ = env.step(action)\n",
    "        state = state_\n",
    "        cum_reward1 += reward\n",
    "        done = terminated\n",
    "\n",
    "    # agent2\n",
    "    state, _ = env.reset()\n",
    "    done = False\n",
    "\n",
    "    while not done:\n",
    "        action, probs, value = agent2.choose_action(state)\n",
    "        trajectory_buffer2.append([[state[0],state[1]], action]) \n",
    "        state_, reward, terminated, truncated, _ = env.step(action)\n",
    "        state = state_\n",
    "        cum_reward2 += reward\n",
    "        done = terminated\n",
    "\n",
    "    trajectory_record.append([trajectory_buffer1,trajectory_buffer2])\n",
    "    reward_record.append([cum_reward1, cum_reward2])\n",
    "\n",
    "probs = [[softmax(x[0],x[1]),softmax(x[1],x[0])] for x in reward_record]\n",
    "label = []\n",
    "for prob in probs:\n",
    "    label.append(0 if prob[0]>prob[1] else 1)\n"
   ]
  },
  {
   "cell_type": "markdown",
   "id": "17cdaa41",
   "metadata": {},
   "source": [
    "## save traj"
   ]
  },
  {
   "cell_type": "code",
   "execution_count": 9,
   "id": "8b890470",
   "metadata": {},
   "outputs": [],
   "source": [
    "trajectory_record # K x n_policy(good one or bad one) x stepsize\n",
    "label # 0 -> good one, 1 -> bad one\n",
    "\n",
    "with open(\"trajectory_record.pkl\", \"wb\") as f:\n",
    "    pickle.dump({\"trajectory\": trajectory_record, \"label\": label}, f)"
   ]
  },
  {
   "cell_type": "markdown",
   "id": "91c139a4",
   "metadata": {},
   "source": [
    "## load traj"
   ]
  },
  {
   "cell_type": "code",
   "execution_count": 10,
   "id": "f0838be6",
   "metadata": {},
   "outputs": [],
   "source": [
    "with open(\"trajectory_record.pkl\", \"rb\") as f:\n",
    "    data = pickle.load(f)\n",
    "\n",
    "trajectory_record_from_loading = data[\"trajectory\"]\n",
    "label_from_loading = data[\"label\"]"
   ]
  }
 ],
 "metadata": {
  "kernelspec": {
   "display_name": "epfl",
   "language": "python",
   "name": "python3"
  },
  "language_info": {
   "codemirror_mode": {
    "name": "ipython",
    "version": 3
   },
   "file_extension": ".py",
   "mimetype": "text/x-python",
   "name": "python",
   "nbconvert_exporter": "python",
   "pygments_lexer": "ipython3",
   "version": "3.11.11"
  }
 },
 "nbformat": 4,
 "nbformat_minor": 5
}
