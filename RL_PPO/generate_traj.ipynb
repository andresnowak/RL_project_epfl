{
 "cells": [
  {
   "cell_type": "code",
   "execution_count": 8,
   "id": "67ec686a",
   "metadata": {},
   "outputs": [],
   "source": [
    "from PPO_mountaincar import *\n",
    "import gym\n",
    "import pickle\n"
   ]
  },
  {
   "cell_type": "code",
   "execution_count": 2,
   "id": "571d26e3",
   "metadata": {},
   "outputs": [
    {
     "name": "stdout",
     "output_type": "stream",
     "text": [
      "... loading models ...\n",
      "... loading models ...\n"
     ]
    }
   ],
   "source": [
    "env = gym.make(\"MountainCar-v0\")\n",
    "agent1 = PPO(n_actions=env.action_space.n, input_dims=env.observation_space.shape)\n",
    "agent1.load_models(\"model/best_actor_model_MC\")\n",
    "agent2 = PPO(n_actions=env.action_space.n, input_dims=env.observation_space.shape)\n",
    "agent2.load_models(\"model/half_actor_model_MC\")\n"
   ]
  },
  {
   "cell_type": "code",
   "execution_count": 11,
   "id": "d3717db0",
   "metadata": {},
   "outputs": [
    {
     "name": "stdout",
     "output_type": "stream",
     "text": [
      "[[-174.0, -5468.0], [-148.0, -2989.0], [-196.0, -1521.0], [-262.0, -5819.0], [-222.0, -7469.0], [-146.0, -1933.0], [-206.0, -4689.0], [-212.0, -7138.0], [-177.0, -3573.0], [-145.0, -1527.0], [-145.0, -3141.0], [-227.0, -4056.0], [-142.0, -3683.0], [-229.0, -9512.0], [-184.0, -2267.0], [-176.0, -1427.0], [-292.0, -4408.0], [-246.0, -5789.0], [-224.0, -4585.0], [-167.0, -3153.0], [-224.0, -1802.0], [-149.0, -2252.0], [-222.0, -4305.0], [-148.0, -3989.0], [-223.0, -3991.0], [-147.0, -3249.0], [-150.0, -2417.0], [-157.0, -1472.0], [-177.0, -3756.0], [-177.0, -8531.0]]\n"
     ]
    }
   ],
   "source": [
    "K = 30\n",
    " \n",
    "trajectory_record = [] # [(t_1,t_2)_1,...,(t_1,t_2)_K]\n",
    "reward_record = []  # [(R_1,R_2)_1,...,(R_1,R_2)_K]\n",
    "\n",
    "def softmax(x,y):\n",
    "    return np.exp(x)/(np.exp(x)+np.exp(y))\n",
    "\n",
    "for k in range(K):\n",
    "    # agent1\n",
    "    state, _ = env.reset()\n",
    "    done = False\n",
    "    cum_reward1 = 0\n",
    "    cum_reward2 = 0\n",
    "    trajectory_buffer1 = []  \n",
    "    trajectory_buffer2 = [] \n",
    "    while not done:\n",
    "        action, probs, value = agent1.choose_action(state)\n",
    "        trajectory_buffer1.append([[state[0],state[1]], action]) \n",
    "        state_, reward, terminated, truncated, _ = env.step(action)\n",
    "        state = state_\n",
    "        cum_reward1 += reward\n",
    "        done = terminated\n",
    "\n",
    "    # agent2\n",
    "    state, _ = env.reset()\n",
    "    done = False\n",
    "\n",
    "    while not done:\n",
    "        action, probs, value = agent2.choose_action(state)\n",
    "        trajectory_buffer2.append([[state[0],state[1]], action]) \n",
    "        state_, reward, terminated, truncated, _ = env.step(action)\n",
    "        state = state_\n",
    "        cum_reward2 += reward\n",
    "        done = terminated\n",
    "\n",
    "    trajectory_record.append([trajectory_buffer1,trajectory_buffer2])\n",
    "    reward_record.append([cum_reward1, cum_reward2])\n",
    "\n",
    "print(reward_record)\n",
    "probs = [[softmax(x[0],x[1]),softmax(x[1],x[0])] for x in reward_record]\n",
    "label = []\n",
    "for prob in probs:\n",
    "    label.append(0 if prob[0]>prob[1] else 1)\n"
   ]
  },
  {
   "cell_type": "markdown",
   "id": "17cdaa41",
   "metadata": {},
   "source": [
    "## save traj"
   ]
  },
  {
   "cell_type": "code",
   "execution_count": 9,
   "id": "8b890470",
   "metadata": {},
   "outputs": [],
   "source": [
    "trajectory_record # K x n_policy(good one or bad one) x stepsize\n",
    "label # 0 -> good one, 1 -> bad one\n",
    "\n",
    "with open(\"trajectory_record.pkl\", \"wb\") as f:\n",
    "    pickle.dump({\"trajectory\": trajectory_record, \"label\": label}, f)"
   ]
  },
  {
   "cell_type": "markdown",
   "id": "91c139a4",
   "metadata": {},
   "source": [
    "## load traj"
   ]
  },
  {
   "cell_type": "code",
   "execution_count": 10,
   "id": "f0838be6",
   "metadata": {},
   "outputs": [],
   "source": [
    "with open(\"trajectory_record.pkl\", \"rb\") as f:\n",
    "    data = pickle.load(f)\n",
    "\n",
    "trajectory_record_from_loading = data[\"trajectory\"]\n",
    "label_from_loading = data[\"label\"]"
   ]
  }
 ],
 "metadata": {
  "kernelspec": {
   "display_name": "epfl",
   "language": "python",
   "name": "python3"
  },
  "language_info": {
   "codemirror_mode": {
    "name": "ipython",
    "version": 3
   },
   "file_extension": ".py",
   "mimetype": "text/x-python",
   "name": "python",
   "nbconvert_exporter": "python",
   "pygments_lexer": "ipython3",
   "version": "3.11.11"
  }
 },
 "nbformat": 4,
 "nbformat_minor": 5
}
